{
 "cells": [
  {
   "cell_type": "code",
   "execution_count": 8,
   "metadata": {},
   "outputs": [],
   "source": [
    "import numpy as np\n",
    "import pandas as pd\n",
    "import os\n",
    "from matplotlib import pyplot\n",
    "from sklearn.cluster import KMeans\n",
    "# from sklearn.decomposition import PCA, RandomizedPCA\n",
    "from sklearn.decomposition import PCA as RandomizedPCA\n",
    "from sklearn.svm import SVC\n",
    "# from sklearn.externals import joblib\n",
    "import joblib\n",
    "from sklearn.metrics import confusion_matrix\n",
    "import time\n",
    "\n",
    "window_size = 40 # 200Hz data -> 1.28 seconds per window\n",
    "n_training = 30  # number of trials used for training, the rest for validation\n",
    "n_components = 40 # PCA components\n",
    "imu_dimensions = 6 # number of dimensions in imu data\n",
    "\n",
    "classes = ['still', 'wave']\n"
   ]
  },
  {
   "cell_type": "code",
   "execution_count": 9,
   "metadata": {},
   "outputs": [],
   "source": [
    "## compute fft features (amplitude of frequencies)\n",
    "def computeIMUFeatures(df):\n",
    "    # grab center 'window_size' data points    \n",
    "    start = int((df.shape[0] - window_size)/2)\n",
    "    d = df[start:start+window_size, 0:imu_dimensions]\n",
    "    fft = np.abs(np.fft.fft(d, axis=0))\n",
    "    fft = fft.reshape(-1)\n",
    "    return fft"
   ]
  },
  {
   "cell_type": "code",
   "execution_count": 7,
   "metadata": {},
   "outputs": [
    {
     "name": "stdout",
     "output_type": "stream",
     "text": [
      "training activities: 0 testing activities: 0\n"
     ]
    },
    {
     "ename": "IndexError",
     "evalue": "list index out of range",
     "output_type": "error",
     "traceback": [
      "\u001b[0;31m---------------------------------------------------------------------------\u001b[0m",
      "\u001b[0;31mIndexError\u001b[0m                                Traceback (most recent call last)",
      "\u001b[0;32m/tmp/ipykernel_35890/3509696877.py\u001b[0m in \u001b[0;36m<module>\u001b[0;34m\u001b[0m\n\u001b[1;32m     26\u001b[0m     \u001b[0mpyplot\u001b[0m\u001b[0;34m.\u001b[0m\u001b[0mfigure\u001b[0m\u001b[0;34m(\u001b[0m\u001b[0mi\u001b[0m\u001b[0;34m)\u001b[0m\u001b[0;34m\u001b[0m\u001b[0;34m\u001b[0m\u001b[0m\n\u001b[1;32m     27\u001b[0m     \u001b[0mpyplot\u001b[0m\u001b[0;34m.\u001b[0m\u001b[0mtitle\u001b[0m\u001b[0;34m(\u001b[0m\u001b[0mclasses\u001b[0m\u001b[0;34m[\u001b[0m\u001b[0mi\u001b[0m\u001b[0;34m]\u001b[0m\u001b[0;34m)\u001b[0m\u001b[0;34m\u001b[0m\u001b[0;34m\u001b[0m\u001b[0m\n\u001b[0;32m---> 28\u001b[0;31m     \u001b[0mpyplot\u001b[0m\u001b[0;34m.\u001b[0m\u001b[0mplot\u001b[0m\u001b[0;34m(\u001b[0m\u001b[0mtrainingActivities\u001b[0m\u001b[0;34m[\u001b[0m\u001b[0mi\u001b[0m \u001b[0;34m*\u001b[0m \u001b[0mn_training\u001b[0m\u001b[0;34m]\u001b[0m\u001b[0;34m[\u001b[0m\u001b[0;36m0\u001b[0m\u001b[0;34m]\u001b[0m\u001b[0;34m)\u001b[0m\u001b[0;34m\u001b[0m\u001b[0;34m\u001b[0m\u001b[0m\n\u001b[0m",
      "\u001b[0;31mIndexError\u001b[0m: list index out of range"
     ]
    },
    {
     "data": {
      "image/png": "[encoded data removed]",
      "text/plain": [
       "<Figure size 432x288 with 1 Axes>"
      ]
     },
     "metadata": {
      "needs_background": "light"
     },
     "output_type": "display_data"
    }
   ],
   "source": [
    "## load in the activities trial and put in training and testing set\n",
    "trainingActivities = []\n",
    "testingActivities = []\n",
    "for idx, cls in enumerate(classes): \n",
    "    fileIndex = 1\n",
    "    while True:\n",
    "        path = './data1n2/' + cls + '/imu' + str(fileIndex) + '.txt'\n",
    "        if not os.path.exists(path):\n",
    "            break\n",
    "        \n",
    "        isTrainingData = fileIndex <= n_training\n",
    "        raw_x = np.loadtxt(path, dtype=np.float32, delimiter=',')        \n",
    "        x = computeIMUFeatures(raw_x)\n",
    "        #print (cls, raw_x.shape, x.shape)\n",
    "        \n",
    "        if isTrainingData:\n",
    "            trainingActivities.append((x, idx))\n",
    "        else:\n",
    "            testingActivities.append((x, idx))\n",
    "\n",
    "        fileIndex += 1\n",
    "print ('training activities:', len(trainingActivities), 'testing activities:', len(testingActivities))\n",
    "\n",
    "## plot the first instance of each activity type to visualize the fft features\n",
    "for i in range( len(classes)):\n",
    "    pyplot.figure(i)\n",
    "    pyplot.title(classes[i])\n",
    "    pyplot.plot(trainingActivities[i * n_training][0])"
   ]
  },
  {
   "cell_type": "code",
   "execution_count": null,
   "metadata": {},
   "outputs": [],
   "source": [
    "## apply PCA to reduce X dimentions\n",
    "allTrainingX = np.empty(shape=(0, window_size * imu_dimensions))\n",
    "allTestingX = np.empty(shape=(0, window_size * imu_dimensions))\n",
    "for (x, y) in trainingActivities:\n",
    "    allTrainingX = np.append(allTrainingX, np.expand_dims(x, axis=0), axis=0)\n",
    "for (x, y) in testingActivities:\n",
    "    allTestingX = np.append(allTestingX, np.expand_dims(x, axis=0), axis=0)\n",
    "    \n",
    "pca = PCA(n_components=n_components).fit(allTrainingX)\n",
    "pyplot.plot(pca.explained_variance_ratio_.cumsum()) ## show explained variance\n",
    "\n",
    "trainingX = pca.transform(allTrainingX)\n",
    "testingX = pca.transform(allTestingX)"
   ]
  },
  {
   "cell_type": "code",
   "execution_count": null,
   "metadata": {},
   "outputs": [],
   "source": [
    "def buildData(pca, activities):\n",
    "    trainingX = np.empty(shape=(0, n_components))\n",
    "    trainingY = np.empty(shape=(0, n_components))\n",
    "    for (x, y) in activities:\n",
    "        reducedX = pca.transform(np.expand_dims(x, axis=0))\n",
    "        trainingX = np.append(trainingX, reducedX, axis=0)\n",
    "        trainingY = np.append(trainingY, y)        \n",
    "    return (trainingX, trainingY)\n",
    "\n",
    "(trainingX, trainingY) = buildData(pca, trainingActivities)\n",
    "(testingX, testingY) = buildData(pca, testingActivities)\n",
    "\n",
    "#print (trainingX, trainingY)\n",
    "#print (testingX, testingY)\n",
    "\n",
    "for i in range(len(classes)):\n",
    "    pyplot.figure(i)\n",
    "    pyplot.title(classes[i])\n",
    "    pyplot.plot(trainingX[i * n_training])"
   ]
  },
  {
   "cell_type": "code",
   "execution_count": null,
   "metadata": {},
   "outputs": [],
   "source": [
    "for i in range(len(classes)):\n",
    "    pyplot.figure(i)\n",
    "    pyplot.plot(testingX[i])"
   ]
  },
  {
   "cell_type": "code",
   "execution_count": null,
   "metadata": {},
   "outputs": [],
   "source": [
    "clf = SVC(kernel='linear')\n",
    "clf.fit(trainingX, trainingY) \n",
    "\n",
    "print (clf.score(trainingX, trainingY) )"
   ]
  },
  {
   "cell_type": "code",
   "execution_count": null,
   "metadata": {},
   "outputs": [],
   "source": [
    "print (clf.predict(testingX))\n",
    "print (testingY)\n",
    "print (np.sum(clf.predict(testingX) == testingY), testingY.shape[0])\n",
    "\n",
    "print (confusion_matrix(testingY, clf.predict(testingX)))"
   ]
  },
  {
   "cell_type": "code",
   "execution_count": null,
   "metadata": {},
   "outputs": [],
   "source": [
    "joblib.dump(clf, 'models/classifier.pkl') \n",
    "joblib.dump(pca, 'models/pca.pkl')"
   ]
  },
  {
   "cell_type": "code",
   "execution_count": null,
   "metadata": {},
   "outputs": [],
   "source": [
    "pca2 = joblib.load('models/pca.pkl') \n",
    "clf2 = joblib.load('models/classifier.pkl') "
   ]
  },
  {
   "cell_type": "code",
   "execution_count": null,
   "metadata": {},
   "outputs": [],
   "source": [
    "startTime = time.time()\n",
    "(testingX, testingY) = buildData(pca2, testingActivities)\n",
    "print (clf2.predict(testingX))\n",
    "endTime = time.time()\n",
    "print (\"take: \" + str(endTime-startTime))"
   ]
  }
 ],
 "metadata": {
  "kernelspec": {
   "display_name": "Python 3 (ipykernel)",
   "language": "python",
   "name": "python3"
  },
  "language_info": {
   "codemirror_mode": {
    "name": "ipython",
    "version": 3
   },
   "file_extension": ".py",
   "mimetype": "text/x-python",
   "name": "python",
   "nbconvert_exporter": "python",
   "pygments_lexer": "ipython3",
   "version": "3.9.6"
  }
 },
 "nbformat": 4,
 "nbformat_minor": 2
}
